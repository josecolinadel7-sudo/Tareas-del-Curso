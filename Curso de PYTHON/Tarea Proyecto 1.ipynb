{
 "cells": [
  {
   "cell_type": "code",
   "execution_count": 3,
   "id": "774532f5",
   "metadata": {},
   "outputs": [
    {
     "name": "stdout",
     "output_type": "stream",
     "text": [
      "   ID Transaccion      Fecha    Vendedor Region    Categoria Producto  \\\n",
      "0            1001 2023-10-01   Ana Gomez  Norte  Electronica   Laptop   \n",
      "1            1002 2023-10-01  Juan Perez    Sur    Accesorio  Teclado   \n",
      "2            1003 2023-10-02   Ana Gomez  Norte    Monitores  Monitor   \n",
      "3            1004 2023-10-03  Luis Ramos  Norte  Electronica   Laptop   \n",
      "\n",
      "   Cantidad  Precio Unitario  Total Ventas  \n",
      "0         5              600          3000  \n",
      "1        10               25           250  \n",
      "2         8              300          2400  \n",
      "3         3              600          1800  \n"
     ]
    }
   ],
   "source": [
    "import pandas as pd\n",
    "\n",
    "# Cargar el archivo Excel\n",
    "df = pd.read_excel(\"Tarea Proyecto.xlsx\")  # Asegúrate de que el archivo esté en el mismo directorio que tu notebook\n",
    "\n",
    "# Ver las primeras filas\n",
    "print(df.head())"
   ]
  },
  {
   "cell_type": "code",
   "execution_count": 5,
   "id": "088e5cc9",
   "metadata": {},
   "outputs": [
    {
     "name": "stdout",
     "output_type": "stream",
     "text": [
      "Note: you may need to restart the kernel to use updated packages.\n"
     ]
    }
   ],
   "source": [
    "pip install pandas matplotlib python-docx openpyxl -q\n"
   ]
  },
  {
   "cell_type": "code",
   "execution_count": 6,
   "id": "9bf2b7b3",
   "metadata": {},
   "outputs": [
    {
     "name": "stdout",
     "output_type": "stream",
     "text": [
      "['Sheet1']\n"
     ]
    }
   ],
   "source": [
    "import pandas as pd\n",
    "\n",
    "# Cargar el archivo Excel\n",
    "archivo = \"Tarea Proyecto.xlsx\"\n",
    "xls = pd.ExcelFile(archivo)\n",
    "\n",
    "# Mostrar las hojas disponibles\n",
    "print(xls.sheet_names)"
   ]
  },
  {
   "cell_type": "code",
   "execution_count": 33,
   "id": "441a554a",
   "metadata": {},
   "outputs": [
    {
     "name": "stderr",
     "output_type": "stream",
     "text": [
      "C:\\Users\\Josè\\AppData\\Local\\Temp\\ipykernel_24220\\534710669.py:11: FutureWarning: \n",
      "\n",
      "Passing `palette` without assigning `hue` is deprecated and will be removed in v0.14.0. Assign the `x` variable to `hue` and set `legend=False` for the same effect.\n",
      "\n",
      "  sns.barplot(data=Categoria, x='Producto', y='Total Ventas', palette='viridis')\n"
     ]
    },
    {
     "data": {
      "image/png": "[encoded data removed]",
      "text/plain": [
       "<Figure size 640x480 with 1 Axes>"
      ]
     },
     "metadata": {},
     "output_type": "display_data"
    },
    {
     "data": {
      "text/plain": [
       "<Figure size 640x480 with 0 Axes>"
      ]
     },
     "metadata": {},
     "output_type": "display_data"
    }
   ],
   "source": [
    "import seaborn as sns\n",
    "import matplotlib.pyplot as plt\n",
    "import pandas as pd\n",
    "\n",
    "# Example DataFrame (replace with your actual data)\n",
    "Categoria = pd.DataFrame({\n",
    "    'Producto': ['A', 'B', 'C'],\n",
    "    'Total Ventas': [100, 150, 200]\n",
    "})\n",
    "\n",
    "sns.barplot(data=Categoria, x='Producto', y='Total Ventas', palette='viridis')\n",
    "plt.show()\n",
    "\n",
    "png = plt.savefig(\"grafico_ventas.png\")"
   ]
  },
  {
   "cell_type": "code",
   "execution_count": 34,
   "id": "8351e560",
   "metadata": {},
   "outputs": [
    {
     "name": "stdout",
     "output_type": "stream",
     "text": [
      "Note: you may need to restart the kernel to use updated packages.\n"
     ]
    }
   ],
   "source": [
    "pip install python-docx -q"
   ]
  },
  {
   "cell_type": "code",
   "execution_count": 35,
   "id": "fcbf7836",
   "metadata": {},
   "outputs": [],
   "source": [
    "from docx import Document\n",
    "from docx.shared import Inches\n",
    "\n",
    "# Crear el documento\n",
    "doc = Document()\n",
    "\n",
    "# Agregar título\n",
    "doc.add_heading(\"Reporte de Ventas\", level=1)\n",
    "\n",
    "# Agregar párrafo\n",
    "doc.add_paragraph(\"Este documento contiene un resumen de ventas con gráficos incluidos.\")\n",
    "\n",
    "# Agregar imagen (asegúrate de que exista en tu directorio)\n",
    "import matplotlib.pyplot as plt\n",
    "\n",
    "plt.savefig(\"grafico_ventas.png\") \n",
    "plt.close()\n",
    "\n",
    "# Guardar el documento\n",
    "doc.save(\"reporte_ventas.docx\")"
   ]
  },
  {
   "cell_type": "code",
   "execution_count": 36,
   "id": "2280dc28",
   "metadata": {},
   "outputs": [],
   "source": [
    "import pandas as pd\n",
    "\n",
    "# Cargar el archivo\n",
    "archivo = \"Tarea Proyecto.xlsx\"\n",
    "df = pd.read_excel(archivo)\n",
    "\n",
    "# Estandarizar columnas\n",
    "df.columns = df.columns.str.strip().str.lower().str.replace(\" \", \"_\")"
   ]
  },
  {
   "cell_type": "code",
   "execution_count": 49,
   "id": "2d2c3b73",
   "metadata": {},
   "outputs": [
    {
     "name": "stdout",
     "output_type": "stream",
     "text": [
      "           sum    mean   max   min\n",
      "producto                          \n",
      "Laptop    4800  2400.0  3000  1800\n",
      "Monitor   2400  2400.0  2400  2400\n",
      "Teclado    250   250.0   250   250\n"
     ]
    }
   ],
   "source": [
    "resumen_producto = df.groupby(\"producto\")[\"total_ventas\"].agg([\"sum\", \"mean\", \"max\", \"min\"])\n",
    "print(resumen_producto)"
   ]
  },
  {
   "cell_type": "code",
   "execution_count": 50,
   "id": "ab2b7f66",
   "metadata": {},
   "outputs": [],
   "source": [
    "resumen_region = df.groupby(\"region\")[\"total_ventas\"].sum()\n",
    "resumen_categoria = df.groupby(\"categoria\")[\"total_ventas\"].sum()"
   ]
  },
  {
   "cell_type": "code",
   "execution_count": 51,
   "id": "24fdfc1e",
   "metadata": {},
   "outputs": [],
   "source": [
    "df[\"fecha\"] = pd.to_datetime(df[\"fecha\"])\n",
    "ventas_por_dia = df.groupby(df[\"fecha\"].dt.date)[\"total_ventas\"].sum()"
   ]
  },
  {
   "cell_type": "code",
   "execution_count": 52,
   "id": "70b65161",
   "metadata": {},
   "outputs": [
    {
     "data": {
      "image/png": "[encoded data removed]",
      "text/plain": [
       "<Figure size 1000x500 with 1 Axes>"
      ]
     },
     "metadata": {},
     "output_type": "display_data"
    }
   ],
   "source": [
    "import matplotlib.pyplot as plt\n",
    "\n",
    "ventas_por_dia.plot(kind=\"line\", figsize=(10,5), title=\"Ventas Diarias\")\n",
    "plt.xlabel(\"Fecha\")\n",
    "plt.ylabel(\"Total Ventas\")\n",
    "plt.tight_layout()\n",
    "plt.show()"
   ]
  },
  {
   "cell_type": "code",
   "execution_count": 53,
   "id": "e91a7aee",
   "metadata": {},
   "outputs": [],
   "source": [
    "resumen_producto.to_excel(\"resumen_por_producto.xlsx\")"
   ]
  },
  {
   "cell_type": "code",
   "execution_count": 54,
   "id": "ee31c5b9",
   "metadata": {},
   "outputs": [
    {
     "name": "stdout",
     "output_type": "stream",
     "text": [
      "Note: you may need to restart the kernel to use updated packages.\n"
     ]
    }
   ],
   "source": [
    "pip install gTTS -q"
   ]
  },
  {
   "cell_type": "code",
   "execution_count": 55,
   "id": "6c554d1b",
   "metadata": {},
   "outputs": [],
   "source": [
    "texto = \"Resumen de ventas por producto:\\n\"\n",
    "for producto, fila in resumen_producto.iterrows():\n",
    "    texto += f\"{producto}: Total = {fila['sum']:.2f}, Promedio = {fila['mean']:.2f}, Máximo = {fila['max']:.2f}, Mínimo = {fila['min']:.2f}\\n\""
   ]
  },
  {
   "cell_type": "code",
   "execution_count": 56,
   "id": "87307119",
   "metadata": {},
   "outputs": [],
   "source": [
    "from gtts import gTTS\n",
    "\n",
    "tts = gTTS(text=texto, lang='es', slow=False)\n",
    "tts.save(\"resumen_ventas.mp3\")"
   ]
  },
  {
   "cell_type": "code",
   "execution_count": 57,
   "id": "83e13cd8",
   "metadata": {},
   "outputs": [
    {
     "name": "stdout",
     "output_type": "stream",
     "text": [
      "Note: you may need to restart the kernel to use updated packages.\n"
     ]
    }
   ],
   "source": [
    "pip install secure-smtplib -q"
   ]
  },
  {
   "cell_type": "code",
   "execution_count": 61,
   "id": "bdf38ad6",
   "metadata": {},
   "outputs": [],
   "source": [
    "import smtplib\n",
    "from email.message import EmailMessage\n",
    "\n",
    "# Configuración del correo\n",
    "remitente = \"josecolinadel7@gmail.com\"\n",
    "destinatario = \"Daniel.z.espitia@gmail.com\"\n",
    "asunto = \"Resumen de Ventas por Producto\"\n",
    "cuerpo = \"Adjunto encontrarás el resumen de ventas generado automáticamente.\"\n",
    "\n",
    "# Crear mensaje\n",
    "msg = EmailMessage()\n",
    "msg[\"From\"] = remitente\n",
    "msg[\"To\"] = destinatario\n",
    "msg[\"Subject\"] = asunto\n",
    "msg.set_content(cuerpo)\n",
    "\n",
    "# Adjuntar archivo Word\n",
    "with open(\"reporte_ventas.docx\", \"rb\") as f:\n",
    "    archivo = f.read()\n",
    "    nombre = f.name\n",
    "    msg.add_attachment(archivo, maintype=\"application\", subtype=\"vnd.openxmlformats-officedocument.wordprocessingml.document\", filename=nombre)\n",
    "\n",
    "# Enviar correo (usando Gmail como ejemplo)\n",
    "with smtplib.SMTP_SSL(\"smtp.gmail.com\", 465) as smtp:\n",
    "    smtp.login(\"josecolinadel7@gmail.com\", \"npua fqvd tkba domo\")\n",
    "    smtp.send_message(msg)"
   ]
  },
  {
   "cell_type": "code",
   "execution_count": 60,
   "id": "e1651f84",
   "metadata": {},
   "outputs": [
    {
     "name": "stdout",
     "output_type": "stream",
     "text": [
      "Note: you may need to restart the kernel to use updated packages.\n"
     ]
    }
   ],
   "source": [
    "pip install fpdf2 -q"
   ]
  },
  {
   "cell_type": "code",
   "execution_count": 62,
   "id": "dea3904b",
   "metadata": {},
   "outputs": [],
   "source": [
    "log = [\n",
    "    \"Inicio del proceso de análisis de ventas.\",\n",
    "    \"Archivo Excel cargado correctamente.\",\n",
    "    \"Resumen por producto generado.\",\n",
    "    \"Documento Word creado y guardado.\",\n",
    "    \"Audio resumen generado en formato MP3.\",\n",
    "    \"Correo enviado con el archivo adjunto.\",\n",
    "    \"Log exportado a PDF exitosamente.\"\n",
    "]"
   ]
  },
  {
   "cell_type": "code",
   "execution_count": 63,
   "id": "31a2106d",
   "metadata": {},
   "outputs": [
    {
     "data": {
      "text/plain": [
       "''"
      ]
     },
     "execution_count": 63,
     "metadata": {},
     "output_type": "execute_result"
    }
   ],
   "source": [
    "from fpdf import FPDF\n",
    "\n",
    "class PDF(FPDF):\n",
    "    def header(self):\n",
    "        self.set_font(\"Arial\", \"B\", 14)\n",
    "        self.cell(0, 10, \"Log del Proceso de Automatización\", ln=True, align=\"C\")\n",
    "        self.ln(10)\n",
    "\n",
    "    def footer(self):\n",
    "        self.set_y(-15)\n",
    "        self.set_font(\"Arial\", \"I\", 10)\n",
    "        self.cell(0, 10, f\"Página {self.page_no()}\", align=\"C\")\n",
    "\n",
    "# Crear PDF\n",
    "pdf = PDF()\n",
    "pdf.add_page()\n",
    "pdf.set_font(\"Arial\", size=12)\n",
    "\n",
    "for linea in log:\n",
    "    pdf.multi_cell(0, 10, f\"- {linea}\")\n",
    "\n",
    "# Guardar PDF\n",
    "pdf.output(\"log_proceso.pdf\")"
   ]
  }
 ],
 "metadata": {
  "kernelspec": {
   "display_name": "Python 3",
   "language": "python",
   "name": "python3"
  },
  "language_info": {
   "codemirror_mode": {
    "name": "ipython",
    "version": 3
   },
   "file_extension": ".py",
   "mimetype": "text/x-python",
   "name": "python",
   "nbconvert_exporter": "python",
   "pygments_lexer": "ipython3",
   "version": "3.13.6"
  }
 },
 "nbformat": 4,
 "nbformat_minor": 5
}
