{
 "cells": [
  {
   "cell_type": "code",
   "execution_count": 32,
   "id": "959c6f03-c8d1-437a-936b-b64e8fc56428",
   "metadata": {},
   "outputs": [],
   "source": [
    "import pandas as pd\n",
    "from datetime import datetime"
   ]
  },
  {
   "cell_type": "code",
   "execution_count": 33,
   "id": "3a9000ce-e247-4e8c-8cd5-12cd9941fb93",
   "metadata": {},
   "outputs": [],
   "source": [
    "df = pd.read_excel('ventas_tienda2.xlsx')"
   ]
  },
  {
   "cell_type": "code",
   "execution_count": 34,
   "id": "a9ce3836-b242-4cd0-9c45-de5dfe6754b8",
   "metadata": {},
   "outputs": [],
   "source": [
    "df['Cliente'] = df['Cliente'].fillna('Consumidor Final')"
   ]
  },
  {
   "cell_type": "code",
   "execution_count": 35,
   "id": "1dd0fe36-abea-47dc-9acc-5231130553c1",
   "metadata": {},
   "outputs": [],
   "source": [
    "df['Fecha'] = pd.to_datetime(df['Fecha'], errors='coerce')"
   ]
  },
  {
   "cell_type": "code",
   "execution_count": 37,
   "id": "38e3d75a-333e-4a52-94d9-243a20ff0688",
   "metadata": {},
   "outputs": [
    {
     "data": {
      "text/html": [
       "<div>\n",
       "<style scoped>\n",
       "    .dataframe tbody tr th:only-of-type {\n",
       "        vertical-align: middle;\n",
       "    }\n",
       "\n",
       "    .dataframe tbody tr th {\n",
       "        vertical-align: top;\n",
       "    }\n",
       "\n",
       "    .dataframe thead th {\n",
       "        text-align: right;\n",
       "    }\n",
       "</style>\n",
       "<table border=\"1\" class=\"dataframe\">\n",
       "  <thead>\n",
       "    <tr style=\"text-align: right;\">\n",
       "      <th></th>\n",
       "      <th>Fecha</th>\n",
       "      <th>Categoria</th>\n",
       "      <th>Unidades Vendidas</th>\n",
       "      <th>Precio</th>\n",
       "      <th>Cliente</th>\n",
       "      <th>Ingreso Total</th>\n",
       "    </tr>\n",
       "  </thead>\n",
       "  <tbody>\n",
       "    <tr>\n",
       "      <th>0</th>\n",
       "      <td>2025-09-02</td>\n",
       "      <td>Electronica</td>\n",
       "      <td>2</td>\n",
       "      <td>15</td>\n",
       "      <td>Cliente A</td>\n",
       "      <td>NaN</td>\n",
       "    </tr>\n",
       "    <tr>\n",
       "      <th>1</th>\n",
       "      <td>2025-08-31</td>\n",
       "      <td>Ropa</td>\n",
       "      <td>5</td>\n",
       "      <td>20</td>\n",
       "      <td>Consumidor Final</td>\n",
       "      <td>NaN</td>\n",
       "    </tr>\n",
       "    <tr>\n",
       "      <th>2</th>\n",
       "      <td>2025-08-29</td>\n",
       "      <td>Hogar</td>\n",
       "      <td>1</td>\n",
       "      <td>10</td>\n",
       "      <td>Cliente B</td>\n",
       "      <td>NaN</td>\n",
       "    </tr>\n",
       "    <tr>\n",
       "      <th>3</th>\n",
       "      <td>2025-09-01</td>\n",
       "      <td>Electronica</td>\n",
       "      <td>2</td>\n",
       "      <td>25</td>\n",
       "      <td>Consumidor Final</td>\n",
       "      <td>NaN</td>\n",
       "    </tr>\n",
       "    <tr>\n",
       "      <th>4</th>\n",
       "      <td>2025-09-03</td>\n",
       "      <td>Ropa</td>\n",
       "      <td>10</td>\n",
       "      <td>5</td>\n",
       "      <td>Cliente C</td>\n",
       "      <td>NaN</td>\n",
       "    </tr>\n",
       "  </tbody>\n",
       "</table>\n",
       "</div>"
      ],
      "text/plain": [
       "       Fecha    Categoria  Unidades Vendidas  Precio           Cliente  \\\n",
       "0 2025-09-02  Electronica                  2      15         Cliente A   \n",
       "1 2025-08-31         Ropa                  5      20  Consumidor Final   \n",
       "2 2025-08-29        Hogar                  1      10         Cliente B   \n",
       "3 2025-09-01  Electronica                  2      25  Consumidor Final   \n",
       "4 2025-09-03         Ropa                 10       5         Cliente C   \n",
       "\n",
       "   Ingreso Total  \n",
       "0            NaN  \n",
       "1            NaN  \n",
       "2            NaN  \n",
       "3            NaN  \n",
       "4            NaN  "
      ]
     },
     "execution_count": 37,
     "metadata": {},
     "output_type": "execute_result"
    }
   ],
   "source": [
    "df.head(10)"
   ]
  },
  {
   "cell_type": "code",
   "execution_count": 41,
   "id": "8b11ec9d-f6a3-480b-a4ad-fb79b14bdd06",
   "metadata": {},
   "outputs": [],
   "source": [
    "df['Ingreso Total'] = df['Unidades Vendidas'] * df['Precio']"
   ]
  },
  {
   "cell_type": "code",
   "execution_count": 42,
   "id": "6c3284e0-94ee-4bba-a24f-162c0e06f9f8",
   "metadata": {},
   "outputs": [
    {
     "data": {
      "text/html": [
       "<div>\n",
       "<style scoped>\n",
       "    .dataframe tbody tr th:only-of-type {\n",
       "        vertical-align: middle;\n",
       "    }\n",
       "\n",
       "    .dataframe tbody tr th {\n",
       "        vertical-align: top;\n",
       "    }\n",
       "\n",
       "    .dataframe thead th {\n",
       "        text-align: right;\n",
       "    }\n",
       "</style>\n",
       "<table border=\"1\" class=\"dataframe\">\n",
       "  <thead>\n",
       "    <tr style=\"text-align: right;\">\n",
       "      <th></th>\n",
       "      <th>Fecha</th>\n",
       "      <th>Categoria</th>\n",
       "      <th>Unidades Vendidas</th>\n",
       "      <th>Precio</th>\n",
       "      <th>Cliente</th>\n",
       "      <th>Ingreso Total</th>\n",
       "    </tr>\n",
       "  </thead>\n",
       "  <tbody>\n",
       "    <tr>\n",
       "      <th>0</th>\n",
       "      <td>2025-09-02</td>\n",
       "      <td>Electronica</td>\n",
       "      <td>2</td>\n",
       "      <td>15</td>\n",
       "      <td>Cliente A</td>\n",
       "      <td>30</td>\n",
       "    </tr>\n",
       "    <tr>\n",
       "      <th>1</th>\n",
       "      <td>2025-08-31</td>\n",
       "      <td>Ropa</td>\n",
       "      <td>5</td>\n",
       "      <td>20</td>\n",
       "      <td>Consumidor Final</td>\n",
       "      <td>100</td>\n",
       "    </tr>\n",
       "    <tr>\n",
       "      <th>2</th>\n",
       "      <td>2025-08-29</td>\n",
       "      <td>Hogar</td>\n",
       "      <td>1</td>\n",
       "      <td>10</td>\n",
       "      <td>Cliente B</td>\n",
       "      <td>10</td>\n",
       "    </tr>\n",
       "    <tr>\n",
       "      <th>3</th>\n",
       "      <td>2025-09-01</td>\n",
       "      <td>Electronica</td>\n",
       "      <td>2</td>\n",
       "      <td>25</td>\n",
       "      <td>Consumidor Final</td>\n",
       "      <td>50</td>\n",
       "    </tr>\n",
       "    <tr>\n",
       "      <th>4</th>\n",
       "      <td>2025-09-03</td>\n",
       "      <td>Ropa</td>\n",
       "      <td>10</td>\n",
       "      <td>5</td>\n",
       "      <td>Cliente C</td>\n",
       "      <td>50</td>\n",
       "    </tr>\n",
       "  </tbody>\n",
       "</table>\n",
       "</div>"
      ],
      "text/plain": [
       "       Fecha    Categoria  Unidades Vendidas  Precio           Cliente  \\\n",
       "0 2025-09-02  Electronica                  2      15         Cliente A   \n",
       "1 2025-08-31         Ropa                  5      20  Consumidor Final   \n",
       "2 2025-08-29        Hogar                  1      10         Cliente B   \n",
       "3 2025-09-01  Electronica                  2      25  Consumidor Final   \n",
       "4 2025-09-03         Ropa                 10       5         Cliente C   \n",
       "\n",
       "   Ingreso Total  \n",
       "0             30  \n",
       "1            100  \n",
       "2             10  \n",
       "3             50  \n",
       "4             50  "
      ]
     },
     "execution_count": 42,
     "metadata": {},
     "output_type": "execute_result"
    }
   ],
   "source": [
    "df.head(10)"
   ]
  },
  {
   "cell_type": "code",
   "execution_count": null,
   "id": "37ca7313-123e-46d9-ae49-bda29b07bf09",
   "metadata": {},
   "outputs": [],
   "source": []
  }
 ],
 "metadata": {
  "kernelspec": {
   "display_name": "anaconda-2024.02-py310",
   "language": "python",
   "name": "conda-env-anaconda-2024.02-py310-py"
  },
  "language_info": {
   "codemirror_mode": {
    "name": "ipython",
    "version": 3
   },
   "file_extension": ".py",
   "mimetype": "text/x-python",
   "name": "python",
   "nbconvert_exporter": "python",
   "pygments_lexer": "ipython3",
   "version": "3.10.14"
  }
 },
 "nbformat": 4,
 "nbformat_minor": 5
}
