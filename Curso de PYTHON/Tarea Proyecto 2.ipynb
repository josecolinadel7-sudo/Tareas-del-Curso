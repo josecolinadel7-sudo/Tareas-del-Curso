{
 "cells": [
  {
   "cell_type": "code",
   "execution_count": 1,
   "id": "4ae1947c",
   "metadata": {},
   "outputs": [],
   "source": [
    "import pandas as pd"
   ]
  },
  {
   "cell_type": "code",
   "execution_count": 16,
   "id": "20e94ed0",
   "metadata": {},
   "outputs": [],
   "source": [
    "df = pd.read_excel('Tarea Proyecto 2.xlsx')\n",
    "df.columns = df.columns.str.lower().str.strip()"
   ]
  },
  {
   "cell_type": "code",
   "execution_count": 17,
   "id": "ce935fe5",
   "metadata": {},
   "outputs": [
    {
     "data": {
      "text/html": [
       "<div>\n",
       "<style scoped>\n",
       "    .dataframe tbody tr th:only-of-type {\n",
       "        vertical-align: middle;\n",
       "    }\n",
       "\n",
       "    .dataframe tbody tr th {\n",
       "        vertical-align: top;\n",
       "    }\n",
       "\n",
       "    .dataframe thead th {\n",
       "        text-align: right;\n",
       "    }\n",
       "</style>\n",
       "<table border=\"1\" class=\"dataframe\">\n",
       "  <thead>\n",
       "    <tr style=\"text-align: right;\">\n",
       "      <th></th>\n",
       "      <th>fecha</th>\n",
       "      <th>ventas</th>\n",
       "      <th>responsable</th>\n",
       "      <th>canal_venta</th>\n",
       "      <th>comentarios</th>\n",
       "    </tr>\n",
       "  </thead>\n",
       "  <tbody>\n",
       "    <tr>\n",
       "      <th>0</th>\n",
       "      <td>2025-08-03</td>\n",
       "      <td>800</td>\n",
       "      <td>Ana Gomez</td>\n",
       "      <td>Online</td>\n",
       "      <td>NaN</td>\n",
       "    </tr>\n",
       "    <tr>\n",
       "      <th>1</th>\n",
       "      <td>2025-08-03</td>\n",
       "      <td>600</td>\n",
       "      <td>Luis Marin</td>\n",
       "      <td>Online</td>\n",
       "      <td>NaN</td>\n",
       "    </tr>\n",
       "    <tr>\n",
       "      <th>2</th>\n",
       "      <td>2025-08-02</td>\n",
       "      <td>400</td>\n",
       "      <td>Pedro Nava</td>\n",
       "      <td>Online</td>\n",
       "      <td>NaN</td>\n",
       "    </tr>\n",
       "    <tr>\n",
       "      <th>3</th>\n",
       "      <td>2025-08-02</td>\n",
       "      <td>200</td>\n",
       "      <td>Ana Gomez</td>\n",
       "      <td>Online</td>\n",
       "      <td>NaN</td>\n",
       "    </tr>\n",
       "    <tr>\n",
       "      <th>4</th>\n",
       "      <td>2025-08-02</td>\n",
       "      <td>700</td>\n",
       "      <td>Luis Marin</td>\n",
       "      <td>Online</td>\n",
       "      <td>NaN</td>\n",
       "    </tr>\n",
       "    <tr>\n",
       "      <th>5</th>\n",
       "      <td>2025-08-01</td>\n",
       "      <td>500</td>\n",
       "      <td>Luis Marin</td>\n",
       "      <td>Online</td>\n",
       "      <td>NaN</td>\n",
       "    </tr>\n",
       "    <tr>\n",
       "      <th>6</th>\n",
       "      <td>2025-08-01</td>\n",
       "      <td>300</td>\n",
       "      <td>Ana Gomez</td>\n",
       "      <td>Online</td>\n",
       "      <td>NaN</td>\n",
       "    </tr>\n",
       "    <tr>\n",
       "      <th>7</th>\n",
       "      <td>2025-08-01</td>\n",
       "      <td>800</td>\n",
       "      <td>Pedro Nava</td>\n",
       "      <td>Online</td>\n",
       "      <td>NaN</td>\n",
       "    </tr>\n",
       "    <tr>\n",
       "      <th>8</th>\n",
       "      <td>2025-07-31</td>\n",
       "      <td>400</td>\n",
       "      <td>Pedro Nava</td>\n",
       "      <td>Online</td>\n",
       "      <td>NaN</td>\n",
       "    </tr>\n",
       "    <tr>\n",
       "      <th>9</th>\n",
       "      <td>2025-07-31</td>\n",
       "      <td>100</td>\n",
       "      <td>Ana Gomez</td>\n",
       "      <td>Online</td>\n",
       "      <td>NaN</td>\n",
       "    </tr>\n",
       "  </tbody>\n",
       "</table>\n",
       "</div>"
      ],
      "text/plain": [
       "       fecha  ventas responsable canal_venta  comentarios\n",
       "0 2025-08-03     800   Ana Gomez      Online          NaN\n",
       "1 2025-08-03     600  Luis Marin      Online          NaN\n",
       "2 2025-08-02     400  Pedro Nava      Online          NaN\n",
       "3 2025-08-02     200   Ana Gomez      Online          NaN\n",
       "4 2025-08-02     700  Luis Marin      Online          NaN\n",
       "5 2025-08-01     500  Luis Marin      Online          NaN\n",
       "6 2025-08-01     300   Ana Gomez      Online          NaN\n",
       "7 2025-08-01     800  Pedro Nava      Online          NaN\n",
       "8 2025-07-31     400  Pedro Nava      Online          NaN\n",
       "9 2025-07-31     100   Ana Gomez      Online          NaN"
      ]
     },
     "execution_count": 17,
     "metadata": {},
     "output_type": "execute_result"
    }
   ],
   "source": [
    "df.head(14)"
   ]
  },
  {
   "cell_type": "code",
   "execution_count": 18,
   "id": "34c840fd",
   "metadata": {},
   "outputs": [],
   "source": [
    "responsables = df[\"responsable\"].unique()"
   ]
  },
  {
   "cell_type": "code",
   "execution_count": 19,
   "id": "42ee74b8",
   "metadata": {},
   "outputs": [],
   "source": [
    "import matplotlib.pyplot as plt\n",
    "\n",
    "def grafico_por_responsable(df, responsable):\n",
    "    datos = df[df[\"responsable\"] == responsable]\n",
    "    resumen = datos.groupby(\"canal_venta\")[\"ventas\"].sum()\n",
    "\n",
    "    plt.figure(figsize=(6, 4))\n",
    "    resumen.plot(kind=\"bar\", color=\"skyblue\")\n",
    "    plt.title(f\"Ventas por canal - {responsable}\")\n",
    "    plt.ylabel(\"Ventas\")\n",
    "    plt.xlabel(\"Canal de venta\")\n",
    "    plt.tight_layout()\n",
    "    plt.savefig(f\"{responsable}_grafico.png\")\n",
    "    plt.close()"
   ]
  },
  {
   "cell_type": "code",
   "execution_count": 20,
   "id": "d3734d50",
   "metadata": {},
   "outputs": [],
   "source": [
    "from docx import Document\n",
    "from docx.shared import Inches\n",
    "\n",
    "def crear_informe(df, responsable):\n",
    "    doc = Document()\n",
    "    doc.add_heading(f\"Informe de Ventas: {responsable}\", level=1)\n",
    "\n",
    "    datos = df[df[\"responsable\"] == responsable]\n",
    "    total_ventas = datos[\"ventas\"].sum()\n",
    "    doc.add_paragraph(f\"Total de ventas: {total_ventas}\")\n",
    "\n",
    "    canales = datos[\"canal_venta\"].value_counts().to_dict()\n",
    "    for canal, cantidad in canales.items():\n",
    "        doc.add_paragraph(f\"Canal {canal}: {cantidad} operaciones\")\n",
    "\n",
    "    doc.add_picture(f\"{responsable}_grafico.png\", width=Inches(4))\n",
    "    doc.save(f\"{responsable}_informe.docx\")"
   ]
  },
  {
   "cell_type": "code",
   "execution_count": 21,
   "id": "42f6925f",
   "metadata": {},
   "outputs": [],
   "source": [
    "for responsable in responsables:\n",
    "    grafico_por_responsable(df, responsable)\n",
    "    crear_informe(df, responsable)"
   ]
  },
  {
   "cell_type": "code",
   "execution_count": 23,
   "id": "00b25804",
   "metadata": {},
   "outputs": [
    {
     "name": "stdout",
     "output_type": "stream",
     "text": [
      "Note: you may need to restart the kernel to use updated packages.\n"
     ]
    }
   ],
   "source": [
    "pip install gTTS -q"
   ]
  },
  {
   "cell_type": "code",
   "execution_count": 24,
   "id": "df61237e",
   "metadata": {},
   "outputs": [],
   "source": [
    "df = pd.read_excel(\"Tarea Proyecto 2.xlsx\")\n",
    "df.columns = df.columns.str.lower().str.strip()\n",
    "responsables = df[\"responsable\"].unique()"
   ]
  },
  {
   "cell_type": "code",
   "execution_count": 25,
   "id": "be70e5fa",
   "metadata": {},
   "outputs": [],
   "source": [
    "def resumen_texto(df, responsable):\n",
    "    datos = df[df[\"responsable\"] == responsable]\n",
    "    total_ventas = datos[\"ventas\"].sum()\n",
    "    canales = datos[\"canal_venta\"].value_counts().to_dict()\n",
    "    comentarios = datos[\"comentarios\"].dropna().unique()\n",
    "\n",
    "    texto = f\"Resumen de ventas para {responsable}. \"\n",
    "    texto += f\"Total de ventas: {total_ventas}. \"\n",
    "    texto += \"Canales utilizados: \" + \", \".join([f\"{canal} ({cantidad} operaciones)\" for canal, cantidad in canales.items()]) + \". \"\n",
    "    if comentarios.any():\n",
    "        texto += \"Comentarios destacados: \" + \"; \".join(comentarios) + \".\"\n",
    "    return texto"
   ]
  },
  {
   "cell_type": "code",
   "execution_count": 26,
   "id": "3ffc93d8",
   "metadata": {},
   "outputs": [],
   "source": [
    "from gtts import gTTS\n",
    "\n",
    "def generar_audio(responsable, texto):\n",
    "    tts = gTTS(text=texto, lang='es')\n",
    "    tts.save(f\"{responsable}_resumen.mp3\")"
   ]
  },
  {
   "cell_type": "code",
   "execution_count": 27,
   "id": "12093f87",
   "metadata": {},
   "outputs": [
    {
     "name": "stdout",
     "output_type": "stream",
     "text": [
      "Audio generado para: Ana Gomez\n",
      "Audio generado para: Luis Marin\n",
      "Audio generado para: Pedro Nava\n"
     ]
    }
   ],
   "source": [
    "for responsable in responsables:\n",
    "    texto = resumen_texto(df, responsable)\n",
    "    generar_audio(responsable, texto)\n",
    "    print(f\"Audio generado para: {responsable}\")"
   ]
  },
  {
   "cell_type": "code",
   "execution_count": 39,
   "id": "4eede6fb",
   "metadata": {},
   "outputs": [],
   "source": [
    "import smtplib\n",
    "from email.message import EmailMessage\n",
    "# Configuración del correo\n",
    "remitente = \"josecolinadel7@gmail.com\"\n",
    "destinatario = \"sandyord0192@gmail.com\"\n",
    "asunto = \"Resumen de Ventas por Producto\"\n",
    "cuerpo = \"Adjunto encontrarás el resumen de ventas generado automáticamente.\"\n",
    "\n",
    "# Crear mensaje\n",
    "msg = EmailMessage()\n",
    "msg[\"From\"] = remitente\n",
    "msg[\"To\"] = destinatario\n",
    "msg[\"Subject\"] = asunto\n",
    "msg.set_content(cuerpo)\n",
    "\n",
    "# Adjuntar archivo Word\n",
    "with open(\"Ana Gomez_informe.docx\", \"rb\") as f:\n",
    "    archivo = f.read()\n",
    "    nombre = f.name\n",
    "    msg.add_attachment(archivo, maintype=\"application\", subtype=\"vnd.openxmlformats-officedocument.wordprocessingml.document\", filename=nombre)\n",
    "\n",
    "with open(\"Pedro Nava_informe.docx\", \"rb\") as f:\n",
    "    archivo = f.read()\n",
    "    nombre = f.name\n",
    "    msg.add_attachment(archivo, maintype=\"application\", subtype=\"vnd.openxmlformats-officedocument.wordprocessingml.document\", filename=nombre)\n",
    "\n",
    "with open(\"Luis Marin_informe.docx\", \"rb\") as f:\n",
    "    archivo = f.read()\n",
    "    nombre = f.name\n",
    "    msg.add_attachment(archivo, maintype=\"application\", subtype=\"vnd.openxmlformats-officedocument.wordprocessingml.document\", filename=nombre)\n",
    "\n",
    "# Enviar correo (usando Gmail como ejemplo)\n",
    "with smtplib.SMTP_SSL(\"smtp.gmail.com\", 465) as smtp:\n",
    "    smtp.login(\"josecolinadel7@gmail.com\", \"npua fqvd tkba domo\")\n",
    "    smtp.send_message(msg)\n",
    "    "
   ]
  },
  {
   "cell_type": "code",
   "execution_count": 40,
   "id": "63cf929e",
   "metadata": {},
   "outputs": [
    {
     "name": "stdout",
     "output_type": "stream",
     "text": [
      "Note: you may need to restart the kernel to use updated packages.\n"
     ]
    }
   ],
   "source": [
    "pip install aspose-words -q"
   ]
  },
  {
   "cell_type": "code",
   "execution_count": 1,
   "id": "4775e9b6",
   "metadata": {},
   "outputs": [],
   "source": [
    "import aspose.words as aw\n",
    "\n",
    "def unir_informes_word(lista_docx, salida_pdf):\n",
    "    doc_final = aw.Document()\n",
    "    doc_final.remove_all_children()\n",
    "\n",
    "    for archivo in lista_docx:\n",
    "        doc = aw.Document(archivo)\n",
    "        doc_final.append_document(doc, aw.ImportFormatMode.KEEP_SOURCE_FORMATTING)\n",
    "\n",
    "    doc_final.save(salida_pdf)"
   ]
  },
  {
   "cell_type": "code",
   "execution_count": 2,
   "id": "271320d9",
   "metadata": {},
   "outputs": [],
   "source": [
    "docx_files = [\"Ana Gomez_informe.docx\", \"Luis Marin_informe.docx\", \"Pedro Nava_informe.docx\"]\n",
    "unir_informes_word(docx_files, \"Informe_Maestro.pdf\")"
   ]
  }
 ],
 "metadata": {
  "kernelspec": {
   "display_name": "Python 3",
   "language": "python",
   "name": "python3"
  },
  "language_info": {
   "codemirror_mode": {
    "name": "ipython",
    "version": 3
   },
   "file_extension": ".py",
   "mimetype": "text/x-python",
   "name": "python",
   "nbconvert_exporter": "python",
   "pygments_lexer": "ipython3",
   "version": "3.13.6"
  }
 },
 "nbformat": 4,
 "nbformat_minor": 5
}
